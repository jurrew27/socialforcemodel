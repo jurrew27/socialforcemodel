{
 "cells": [
  {
   "cell_type": "code",
   "execution_count": 1,
   "metadata": {
    "pycharm": {
     "is_executing": false
    }
   },
   "outputs": [],
   "source": [
    "import pandas as pd\n",
    "import numpy as np\n",
    "import matplotlib.pyplot as plt"
   ]
  },
  {
   "cell_type": "code",
   "execution_count": 2,
   "metadata": {
    "pycharm": {
     "is_executing": false
    }
   },
   "outputs": [],
   "source": [
    "n_measurements = 10\n",
    "\n",
    "velocities = np.zeros((n_measurements, 15))\n",
    "\n",
    "for i in range(n_measurements):\n",
    "    for r_i, r in enumerate(np.arange(0.1, 1.51, 0.1)):\n",
    "        data = pd.read_csv(f'seperate_{i}/rate_{round(r, 1)}.csv')\n",
    "        data_in_range = data[(data['time'] > 20) & (data['x'] > 0) & (data['x'] < 30) & (data['y'] > 0) & (data['y'] < 5)]\n",
    "        \n",
    "        displacement = data_in_range.groupby('pedestrian_id').agg({'x': 'diff', 'y': 'diff'})\n",
    "        velocities[i, r_i] = np.mean(np.sqrt(displacement['x']**2 + displacement['y']**2) / 0.1)"
   ]
  },
  {
   "cell_type": "code",
   "execution_count": 3,
   "metadata": {
    "pycharm": {
     "is_executing": false
    }
   },
   "outputs": [
    {
     "data": {
      "image/png": "[encoded data removed]",
      "text/plain": [
       "<Figure size 432x288 with 1 Axes>"
      ]
     },
     "metadata": {
      "needs_background": "light"
     },
     "output_type": "display_data"
    }
   ],
   "source": [
    "mean = velocities.mean(axis=0)\n",
    "std = velocities.std(axis=0) / np.sqrt(n_measurements)\n",
    "plt.plot(np.arange(0.1, 1.51, 0.1), mean)\n",
    "plt.fill_between(np.arange(0.1, 1.51, 0.1), mean - std, mean + std, alpha=0.2)\n",
    "plt.ylabel('Mean speed')\n",
    "plt.xlabel('Rates')\n",
    "plt.grid()\n",
    "plt.savefig('plots/s_speed.png', dpi=150)\n",
    "plt.show()"
   ]
  },
  {
   "cell_type": "code",
   "execution_count": 12,
   "metadata": {
    "pycharm": {
     "is_executing": false
    }
   },
   "outputs": [
    {
     "data": {
      "text/plain": [
       "array([[1.2871988 , 1.28177058, 1.25860658, 1.27273908, 1.24405548,\n",
       "        1.21065838, 1.1707202 , 1.19398479, 0.3220379 , 1.08236491],\n",
       "       [1.29672589, 1.26838983, 1.28471345, 1.23765084, 1.22440014,\n",
       "        1.23448265, 1.1341294 , 1.13217526, 1.17200332, 1.1376827 ],\n",
       "       [1.29283149, 1.26815462, 1.25422496, 1.24463876, 1.25199196,\n",
       "        1.18515182, 1.18464612, 1.19290675, 1.10427194, 0.19012125],\n",
       "       [1.27949633, 1.28504865, 1.24652587, 1.24400248, 1.25360136,\n",
       "        1.22853716, 1.20276361, 1.2048383 , 0.32561551, 0.50033933],\n",
       "       [1.27689004, 1.27492925, 1.2740905 , 1.24460997, 1.23737062,\n",
       "        1.25070524, 1.2294765 , 1.17239957, 1.15574875, 1.12689071],\n",
       "       [1.28947089, 1.27907166, 1.27250173, 1.24610034, 1.25198899,\n",
       "        1.23432015, 1.22601505, 0.33953485, 0.98740971, 0.65239376],\n",
       "       [1.28970567, 1.28068992, 1.27861464, 1.2679986 , 1.26059613,\n",
       "        1.23650478, 1.22623231, 1.19111704, 1.14252079, 0.64689589],\n",
       "       [1.29368168, 1.28027735, 1.25955852, 1.24749301, 1.2243582 ,\n",
       "        1.22597329, 1.21789133, 1.1325278 , 1.14715493, 0.79483498],\n",
       "       [1.29428446, 1.27870367, 1.25167493, 1.25868689, 1.2489754 ,\n",
       "        1.18846044, 1.07300944, 1.19992143, 1.14535615, 0.28599687],\n",
       "       [1.27625204, 1.26023646, 1.2706093 , 1.23414284, 1.25011303,\n",
       "        1.21254231, 1.20534867, 1.16747885, 0.60638226, 0.8413335 ]])"
      ]
     },
     "execution_count": 12,
     "metadata": {},
     "output_type": "execute_result"
    }
   ],
   "source": [
    "velocities"
   ]
  },
  {
   "cell_type": "code",
   "execution_count": null,
   "metadata": {
    "pycharm": {}
   },
   "outputs": [],
   "source": []
  }
 ],
 "metadata": {
  "kernelspec": {
   "display_name": "Python 3",
   "language": "python",
   "name": "python3"
  },
  "language_info": {
   "codemirror_mode": {
    "name": "ipython",
    "version": 3
   },
   "file_extension": ".py",
   "mimetype": "text/x-python",
   "name": "python",
   "nbconvert_exporter": "python",
   "pygments_lexer": "ipython3",
   "version": "3.7.4"
  }
 },
 "nbformat": 4,
 "nbformat_minor": 2
}
